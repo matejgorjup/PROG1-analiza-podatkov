{
 "cells": [
  {
   "cell_type": "markdown",
   "metadata": {},
   "source": [
    "# **Analiza ekonomskega stanja slovenskih občin**\n",
    "#### *Projektna naloga iz analize podatkov pri predmetu Programiranje 1*\n",
    "\n",
    "> V svoji analizi podatkov predstavljam določene aspekte ekonomskega stanja v 210 slovenskih občinah glede na zbirko podatkov [statističnega urada Republike Slovenije](https://www.stat.si/obcine) za leto 2019. V Sloveniji od leta 2011 obstaja 212 občin - zadnji dve novonastali, Anakaran in Mirna, sta iz te analize izvzeti.\n",
    ">\n",
    "> #### **Zajem podatkov**\n",
    "> Za vsako občino sem zajel naslednje podatke:\n",
    "> * ime občine\n",
    "> * regija in upravna enota\n",
    "> * površina, število prebivalcev in skupni prirast prebivalstva\n",
    "> * stopnja delovno aktivnega prebivalstva\n",
    "> * neto plača na prebivalca\n",
    ">\n",
    "> #### **Delovne hipoteze**\n",
    "> Pred začetkom sem si postavil nekaj hipotez oziroma vprašanj, na katera bom poskusil kar se dosledno odgovoriti in jih kasneje še obrazložiti:\n",
    "> * Ali obstaja korelacija med povprečno neto plačo in letnim prirastom?\n",
    "> * Kje se pojavljajo skrajni primeri stopnje delovno aktivnega prebivalstva?\n",
    "> * Kakšni so prihodki glede na regijo in upravno enoto?\n"
   ]
  },
  {
   "cell_type": "markdown",
   "metadata": {},
   "source": [
    "### **Delovno okolje**"
   ]
  },
  {
   "cell_type": "markdown",
   "metadata": {},
   "source": [
    "Analiza in manipulacija podatkov bo izvedena z uporabo knjižnice Pandas, zato je potrebno le-to najprej uvoziti. Za upravljanje in reprezentacijo rezultatov pa bomo uporabljali še nekatera priročna orodja."
   ]
  },
  {
   "cell_type": "code",
   "execution_count": 27,
   "metadata": {},
   "outputs": [],
   "source": [
    "import pandas as pd\n",
    "import os.path"
   ]
  },
  {
   "cell_type": "markdown",
   "metadata": {},
   "source": [
    "Naložimo še razpredelnico podatkov, s katerimi bomo razpolagali."
   ]
  },
  {
   "cell_type": "code",
   "execution_count": 28,
   "metadata": {},
   "outputs": [],
   "source": [
    "obcine = pd.read_csv('obcine.csv', index_col='id')"
   ]
  },
  {
   "cell_type": "markdown",
   "metadata": {},
   "source": [
    "### **Proučevanje podatkov**"
   ]
  },
  {
   "cell_type": "markdown",
   "metadata": {},
   "source": [
    "### **Interpretacija rezultatov**"
   ]
  },
  {
   "cell_type": "markdown",
   "metadata": {},
   "source": [
    "### **Zaključek**"
   ]
  }
 ],
 "metadata": {
  "interpreter": {
   "hash": "961a2c9ff79c1913f3d375ae494ee06f02d07aaeaa87159be5cbae1792b24e0e"
  },
  "kernelspec": {
   "display_name": "Python 3.9.1 64-bit",
   "language": "python",
   "name": "python3"
  },
  "language_info": {
   "codemirror_mode": {
    "name": "ipython",
    "version": 3
   },
   "file_extension": ".py",
   "mimetype": "text/x-python",
   "name": "python",
   "nbconvert_exporter": "python",
   "pygments_lexer": "ipython3",
   "version": "3.9.1"
  },
  "orig_nbformat": 4
 },
 "nbformat": 4,
 "nbformat_minor": 2
}
