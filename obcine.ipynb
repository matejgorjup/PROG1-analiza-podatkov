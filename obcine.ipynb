{
 "cells": [
  {
   "cell_type": "markdown",
   "metadata": {},
   "source": [
    "# **Analiza ekonomskega stanja slovenskih občin in regij**\n",
    "#### *Projektna naloga iz analize podatkov pri predmetu Programiranje 1*\n",
    "\n",
    "> V svoji analizi podatkov predstavljam določene aspekte ekonomskega stanja v 210 slovenskih občinah glede na zbirko podatkov [statističnega urada Republike Slovenije](https://www.stat.si/obcine) za leto 2019. V Sloveniji od leta 2011 obstaja 212 občin - zadnji dve novonastali, Anakaran in Mirna, sta iz te analize izvzeti.\n",
    ">\n",
    "> #### **Zajem podatkov**\n",
    "> Za vsako občino sem zajel naslednje podatke:\n",
    "> * ime občine\n",
    "> * regija in upravna enota\n",
    "> * površina, število prebivalcev in skupni prirast prebivalstva\n",
    "> * stopnja delovno aktivnega prebivalstva\n",
    "> * neto plača na prebivalca\n",
    "> * letni prihodek podjetij\n",
    "> * povprečna starost avtomobilov na dan 31. december za to leto\n",
    ">\n",
    "> #### **Delovne hipoteze**\n",
    "> Pred začetkom sem si postavil nekaj hipotez na katera bom poskusil odgovoriti poleg drugih zanimivih opažanj, ki jih utegnem najti ob analizi:\n",
    "> * Obstaja korelacija med povprečno neto plačo in delovno aktivnostjo.\n",
    "> * Najnižji neto mesečni dohodki so prisotni v pomurski regiji ter jugovzhodni Sloveniji.\n",
    "> * Regije so precej centralizirane na svoje mestne občine z vidika neto plače in prilivov podjetij.\n",
    "> * Starost avtomobilov je skladna s povprečnim dohodkom prebivalca posamezne regije.\n"
   ]
  },
  {
   "cell_type": "markdown",
   "metadata": {},
   "source": [
    "### **Delovno okolje**"
   ]
  },
  {
   "cell_type": "markdown",
   "metadata": {},
   "source": [
    "Analiza in manipulacija podatkov bo izvedena z uporabo knjižnice Pandas, zato je potrebno le-to najprej uvoziti. Za upravljanje in reprezentacijo rezultatov pa bomo uporabljali še nekatera priročna orodja."
   ]
  },
  {
   "cell_type": "code",
   "execution_count": 1,
   "metadata": {},
   "outputs": [],
   "source": [
    "import pandas as pd\n",
    "import matplotlib.pyplot as plt\n",
    "import numpy as np\n",
    "\n",
    "from sklearn.ensemble import RandomForestRegressor"
   ]
  },
  {
   "cell_type": "markdown",
   "metadata": {},
   "source": [
    "Naložimo celotno razpredelnico podatkov, s katerimi bomo razpolagali."
   ]
  },
  {
   "cell_type": "code",
   "execution_count": 2,
   "metadata": {},
   "outputs": [
    {
     "data": {
      "text/html": [
       "<div>\n",
       "<style scoped>\n",
       "    .dataframe tbody tr th:only-of-type {\n",
       "        vertical-align: middle;\n",
       "    }\n",
       "\n",
       "    .dataframe tbody tr th {\n",
       "        vertical-align: top;\n",
       "    }\n",
       "\n",
       "    .dataframe thead th {\n",
       "        text-align: right;\n",
       "    }\n",
       "</style>\n",
       "<table border=\"1\" class=\"dataframe\">\n",
       "  <thead>\n",
       "    <tr style=\"text-align: right;\">\n",
       "      <th></th>\n",
       "      <th>ime_obcine</th>\n",
       "      <th>regija</th>\n",
       "      <th>UE</th>\n",
       "      <th>povrsina</th>\n",
       "      <th>prebivalci</th>\n",
       "      <th>prirast</th>\n",
       "      <th>delovna_aktivnost</th>\n",
       "      <th>placa</th>\n",
       "      <th>podjetja</th>\n",
       "      <th>starost_avtomobila</th>\n",
       "    </tr>\n",
       "    <tr>\n",
       "      <th>id</th>\n",
       "      <th></th>\n",
       "      <th></th>\n",
       "      <th></th>\n",
       "      <th></th>\n",
       "      <th></th>\n",
       "      <th></th>\n",
       "      <th></th>\n",
       "      <th></th>\n",
       "      <th></th>\n",
       "      <th></th>\n",
       "    </tr>\n",
       "  </thead>\n",
       "  <tbody>\n",
       "    <tr>\n",
       "      <th>1</th>\n",
       "      <td>Ajdovščina</td>\n",
       "      <td>goriška</td>\n",
       "      <td>Ajdovščina</td>\n",
       "      <td>245</td>\n",
       "      <td>19364</td>\n",
       "      <td>8.9</td>\n",
       "      <td>69.1</td>\n",
       "      <td>1055.98</td>\n",
       "      <td>703624000</td>\n",
       "      <td>11.8</td>\n",
       "    </tr>\n",
       "    <tr>\n",
       "      <th>2</th>\n",
       "      <td>Apače</td>\n",
       "      <td>pomurska</td>\n",
       "      <td>Gornja Radgona</td>\n",
       "      <td>54</td>\n",
       "      <td>3532</td>\n",
       "      <td>5.1</td>\n",
       "      <td>45.0</td>\n",
       "      <td>978.90</td>\n",
       "      <td>27489000</td>\n",
       "      <td>9.7</td>\n",
       "    </tr>\n",
       "    <tr>\n",
       "      <th>3</th>\n",
       "      <td>Beltinci</td>\n",
       "      <td>pomurska</td>\n",
       "      <td>Murska Sobota</td>\n",
       "      <td>62</td>\n",
       "      <td>8098</td>\n",
       "      <td>-5.6</td>\n",
       "      <td>59.0</td>\n",
       "      <td>953.26</td>\n",
       "      <td>103717000</td>\n",
       "      <td>9.9</td>\n",
       "    </tr>\n",
       "    <tr>\n",
       "      <th>4</th>\n",
       "      <td>Benedikt</td>\n",
       "      <td>podravska</td>\n",
       "      <td>Lenart</td>\n",
       "      <td>24</td>\n",
       "      <td>2584</td>\n",
       "      <td>14.7</td>\n",
       "      <td>59.0</td>\n",
       "      <td>966.69</td>\n",
       "      <td>27658000</td>\n",
       "      <td>10.3</td>\n",
       "    </tr>\n",
       "    <tr>\n",
       "      <th>5</th>\n",
       "      <td>Bistrica ob Sotli</td>\n",
       "      <td>posavska</td>\n",
       "      <td>Šmarje pri Jelšah</td>\n",
       "      <td>31</td>\n",
       "      <td>1333</td>\n",
       "      <td>6.8</td>\n",
       "      <td>63.7</td>\n",
       "      <td>1042.67</td>\n",
       "      <td>10954000</td>\n",
       "      <td>11.5</td>\n",
       "    </tr>\n",
       "    <tr>\n",
       "      <th>...</th>\n",
       "      <td>...</td>\n",
       "      <td>...</td>\n",
       "      <td>...</td>\n",
       "      <td>...</td>\n",
       "      <td>...</td>\n",
       "      <td>...</td>\n",
       "      <td>...</td>\n",
       "      <td>...</td>\n",
       "      <td>...</td>\n",
       "      <td>...</td>\n",
       "    </tr>\n",
       "    <tr>\n",
       "      <th>206</th>\n",
       "      <td>Železniki</td>\n",
       "      <td>gorenjska</td>\n",
       "      <td>Škofja Loka</td>\n",
       "      <td>164</td>\n",
       "      <td>6699</td>\n",
       "      <td>4.6</td>\n",
       "      <td>71.7</td>\n",
       "      <td>1084.10</td>\n",
       "      <td>289400000</td>\n",
       "      <td>10.4</td>\n",
       "    </tr>\n",
       "    <tr>\n",
       "      <th>207</th>\n",
       "      <td>Žetale</td>\n",
       "      <td>podravska</td>\n",
       "      <td>Ptuj</td>\n",
       "      <td>38</td>\n",
       "      <td>1297</td>\n",
       "      <td>12.3</td>\n",
       "      <td>65.6</td>\n",
       "      <td>1029.91</td>\n",
       "      <td>5695000</td>\n",
       "      <td>10.5</td>\n",
       "    </tr>\n",
       "    <tr>\n",
       "      <th>208</th>\n",
       "      <td>Žiri</td>\n",
       "      <td>gorenjska</td>\n",
       "      <td>Škofja Loka</td>\n",
       "      <td>49</td>\n",
       "      <td>4915</td>\n",
       "      <td>11.0</td>\n",
       "      <td>74.3</td>\n",
       "      <td>1023.21</td>\n",
       "      <td>276784000</td>\n",
       "      <td>11.3</td>\n",
       "    </tr>\n",
       "    <tr>\n",
       "      <th>209</th>\n",
       "      <td>Žirovnica</td>\n",
       "      <td>gorenjska</td>\n",
       "      <td>Jesenice</td>\n",
       "      <td>43</td>\n",
       "      <td>4384</td>\n",
       "      <td>-0.9</td>\n",
       "      <td>70.4</td>\n",
       "      <td>1102.70</td>\n",
       "      <td>54656000</td>\n",
       "      <td>9.4</td>\n",
       "    </tr>\n",
       "    <tr>\n",
       "      <th>210</th>\n",
       "      <td>Žužemberk</td>\n",
       "      <td>jugovzhodna Slovenija</td>\n",
       "      <td>Novo mesto</td>\n",
       "      <td>164</td>\n",
       "      <td>4648</td>\n",
       "      <td>15.7</td>\n",
       "      <td>72.3</td>\n",
       "      <td>991.52</td>\n",
       "      <td>78494000</td>\n",
       "      <td>10.6</td>\n",
       "    </tr>\n",
       "  </tbody>\n",
       "</table>\n",
       "<p>210 rows × 10 columns</p>\n",
       "</div>"
      ],
      "text/plain": [
       "            ime_obcine                 regija                 UE  povrsina  \\\n",
       "id                                                                           \n",
       "1           Ajdovščina                goriška         Ajdovščina       245   \n",
       "2                Apače               pomurska     Gornja Radgona        54   \n",
       "3             Beltinci               pomurska      Murska Sobota        62   \n",
       "4             Benedikt              podravska             Lenart        24   \n",
       "5    Bistrica ob Sotli               posavska  Šmarje pri Jelšah        31   \n",
       "..                 ...                    ...                ...       ...   \n",
       "206          Železniki              gorenjska        Škofja Loka       164   \n",
       "207             Žetale              podravska               Ptuj        38   \n",
       "208               Žiri              gorenjska        Škofja Loka        49   \n",
       "209          Žirovnica              gorenjska           Jesenice        43   \n",
       "210          Žužemberk  jugovzhodna Slovenija         Novo mesto       164   \n",
       "\n",
       "     prebivalci  prirast  delovna_aktivnost    placa   podjetja  \\\n",
       "id                                                                \n",
       "1         19364      8.9               69.1  1055.98  703624000   \n",
       "2          3532      5.1               45.0   978.90   27489000   \n",
       "3          8098     -5.6               59.0   953.26  103717000   \n",
       "4          2584     14.7               59.0   966.69   27658000   \n",
       "5          1333      6.8               63.7  1042.67   10954000   \n",
       "..          ...      ...                ...      ...        ...   \n",
       "206        6699      4.6               71.7  1084.10  289400000   \n",
       "207        1297     12.3               65.6  1029.91    5695000   \n",
       "208        4915     11.0               74.3  1023.21  276784000   \n",
       "209        4384     -0.9               70.4  1102.70   54656000   \n",
       "210        4648     15.7               72.3   991.52   78494000   \n",
       "\n",
       "     starost_avtomobila  \n",
       "id                       \n",
       "1                  11.8  \n",
       "2                   9.7  \n",
       "3                   9.9  \n",
       "4                  10.3  \n",
       "5                  11.5  \n",
       "..                  ...  \n",
       "206                10.4  \n",
       "207                10.5  \n",
       "208                11.3  \n",
       "209                 9.4  \n",
       "210                10.6  \n",
       "\n",
       "[210 rows x 10 columns]"
      ]
     },
     "execution_count": 2,
     "metadata": {},
     "output_type": "execute_result"
    }
   ],
   "source": [
    "obcine = pd.read_csv('obcine.csv', index_col='id')\n",
    "obcine"
   ]
  },
  {
   "cell_type": "markdown",
   "metadata": {},
   "source": [
    "### **Proučevanje in interpretacija podatkov**"
   ]
  },
  {
   "cell_type": "markdown",
   "metadata": {},
   "source": [
    "#### **Osnovni podatki**"
   ]
  },
  {
   "cell_type": "markdown",
   "metadata": {},
   "source": [
    "Poglejmo si porazdelitev prebivalstva Slovenije najprej celovkupno, nato pa se porazdelitev po regijah in upravnih enotah."
   ]
  },
  {
   "cell_type": "code",
   "execution_count": 3,
   "metadata": {},
   "outputs": [
    {
     "data": {
      "text/html": [
       "<div>\n",
       "<style scoped>\n",
       "    .dataframe tbody tr th:only-of-type {\n",
       "        vertical-align: middle;\n",
       "    }\n",
       "\n",
       "    .dataframe tbody tr th {\n",
       "        vertical-align: top;\n",
       "    }\n",
       "\n",
       "    .dataframe thead th {\n",
       "        text-align: right;\n",
       "    }\n",
       "</style>\n",
       "<table border=\"1\" class=\"dataframe\">\n",
       "  <thead>\n",
       "    <tr style=\"text-align: right;\">\n",
       "      <th></th>\n",
       "      <th>ime_obcine</th>\n",
       "      <th>regija</th>\n",
       "      <th>UE</th>\n",
       "      <th>povrsina</th>\n",
       "      <th>prebivalci</th>\n",
       "    </tr>\n",
       "    <tr>\n",
       "      <th>id</th>\n",
       "      <th></th>\n",
       "      <th></th>\n",
       "      <th></th>\n",
       "      <th></th>\n",
       "      <th></th>\n",
       "    </tr>\n",
       "  </thead>\n",
       "  <tbody>\n",
       "    <tr>\n",
       "      <th>1</th>\n",
       "      <td>Ajdovščina</td>\n",
       "      <td>goriška</td>\n",
       "      <td>Ajdovščina</td>\n",
       "      <td>245</td>\n",
       "      <td>19364</td>\n",
       "    </tr>\n",
       "    <tr>\n",
       "      <th>2</th>\n",
       "      <td>Apače</td>\n",
       "      <td>pomurska</td>\n",
       "      <td>Gornja Radgona</td>\n",
       "      <td>54</td>\n",
       "      <td>3532</td>\n",
       "    </tr>\n",
       "    <tr>\n",
       "      <th>3</th>\n",
       "      <td>Beltinci</td>\n",
       "      <td>pomurska</td>\n",
       "      <td>Murska Sobota</td>\n",
       "      <td>62</td>\n",
       "      <td>8098</td>\n",
       "    </tr>\n",
       "    <tr>\n",
       "      <th>4</th>\n",
       "      <td>Benedikt</td>\n",
       "      <td>podravska</td>\n",
       "      <td>Lenart</td>\n",
       "      <td>24</td>\n",
       "      <td>2584</td>\n",
       "    </tr>\n",
       "    <tr>\n",
       "      <th>5</th>\n",
       "      <td>Bistrica ob Sotli</td>\n",
       "      <td>posavska</td>\n",
       "      <td>Šmarje pri Jelšah</td>\n",
       "      <td>31</td>\n",
       "      <td>1333</td>\n",
       "    </tr>\n",
       "    <tr>\n",
       "      <th>...</th>\n",
       "      <td>...</td>\n",
       "      <td>...</td>\n",
       "      <td>...</td>\n",
       "      <td>...</td>\n",
       "      <td>...</td>\n",
       "    </tr>\n",
       "    <tr>\n",
       "      <th>206</th>\n",
       "      <td>Železniki</td>\n",
       "      <td>gorenjska</td>\n",
       "      <td>Škofja Loka</td>\n",
       "      <td>164</td>\n",
       "      <td>6699</td>\n",
       "    </tr>\n",
       "    <tr>\n",
       "      <th>207</th>\n",
       "      <td>Žetale</td>\n",
       "      <td>podravska</td>\n",
       "      <td>Ptuj</td>\n",
       "      <td>38</td>\n",
       "      <td>1297</td>\n",
       "    </tr>\n",
       "    <tr>\n",
       "      <th>208</th>\n",
       "      <td>Žiri</td>\n",
       "      <td>gorenjska</td>\n",
       "      <td>Škofja Loka</td>\n",
       "      <td>49</td>\n",
       "      <td>4915</td>\n",
       "    </tr>\n",
       "    <tr>\n",
       "      <th>209</th>\n",
       "      <td>Žirovnica</td>\n",
       "      <td>gorenjska</td>\n",
       "      <td>Jesenice</td>\n",
       "      <td>43</td>\n",
       "      <td>4384</td>\n",
       "    </tr>\n",
       "    <tr>\n",
       "      <th>210</th>\n",
       "      <td>Žužemberk</td>\n",
       "      <td>jugovzhodna Slovenija</td>\n",
       "      <td>Novo mesto</td>\n",
       "      <td>164</td>\n",
       "      <td>4648</td>\n",
       "    </tr>\n",
       "  </tbody>\n",
       "</table>\n",
       "<p>210 rows × 5 columns</p>\n",
       "</div>"
      ],
      "text/plain": [
       "            ime_obcine                 regija                 UE  povrsina  \\\n",
       "id                                                                           \n",
       "1           Ajdovščina                goriška         Ajdovščina       245   \n",
       "2                Apače               pomurska     Gornja Radgona        54   \n",
       "3             Beltinci               pomurska      Murska Sobota        62   \n",
       "4             Benedikt              podravska             Lenart        24   \n",
       "5    Bistrica ob Sotli               posavska  Šmarje pri Jelšah        31   \n",
       "..                 ...                    ...                ...       ...   \n",
       "206          Železniki              gorenjska        Škofja Loka       164   \n",
       "207             Žetale              podravska               Ptuj        38   \n",
       "208               Žiri              gorenjska        Škofja Loka        49   \n",
       "209          Žirovnica              gorenjska           Jesenice        43   \n",
       "210          Žužemberk  jugovzhodna Slovenija         Novo mesto       164   \n",
       "\n",
       "     prebivalci  \n",
       "id               \n",
       "1         19364  \n",
       "2          3532  \n",
       "3          8098  \n",
       "4          2584  \n",
       "5          1333  \n",
       "..          ...  \n",
       "206        6699  \n",
       "207        1297  \n",
       "208        4915  \n",
       "209        4384  \n",
       "210        4648  \n",
       "\n",
       "[210 rows x 5 columns]"
      ]
     },
     "execution_count": 3,
     "metadata": {},
     "output_type": "execute_result"
    }
   ],
   "source": [
    "obcine[['ime_obcine', 'regija', 'UE', 'povrsina', 'prebivalci']]"
   ]
  },
  {
   "cell_type": "code",
   "execution_count": 29,
   "metadata": {},
   "outputs": [
    {
     "data": {
      "text/html": [
       "<div>\n",
       "<style scoped>\n",
       "    .dataframe tbody tr th:only-of-type {\n",
       "        vertical-align: middle;\n",
       "    }\n",
       "\n",
       "    .dataframe tbody tr th {\n",
       "        vertical-align: top;\n",
       "    }\n",
       "\n",
       "    .dataframe thead th {\n",
       "        text-align: right;\n",
       "    }\n",
       "</style>\n",
       "<table border=\"1\" class=\"dataframe\">\n",
       "  <thead>\n",
       "    <tr style=\"text-align: right;\">\n",
       "      <th></th>\n",
       "      <th>povrsina</th>\n",
       "      <th>prebivalci</th>\n",
       "      <th>prirast</th>\n",
       "      <th>delovna_aktivnost</th>\n",
       "      <th>placa</th>\n",
       "      <th>podjetja</th>\n",
       "      <th>starost_avtomobila</th>\n",
       "      <th>podjetje_na_zaposlenega</th>\n",
       "    </tr>\n",
       "  </thead>\n",
       "  <tbody>\n",
       "    <tr>\n",
       "      <th>count</th>\n",
       "      <td>210.000000</td>\n",
       "      <td>210.000000</td>\n",
       "      <td>210.000000</td>\n",
       "      <td>210.000000</td>\n",
       "      <td>210.000000</td>\n",
       "      <td>2.100000e+02</td>\n",
       "      <td>210.000000</td>\n",
       "      <td>210.000000</td>\n",
       "    </tr>\n",
       "    <tr>\n",
       "      <th>mean</th>\n",
       "      <td>96.385714</td>\n",
       "      <td>9921.300000</td>\n",
       "      <td>4.475714</td>\n",
       "      <td>64.822857</td>\n",
       "      <td>1020.556667</td>\n",
       "      <td>5.770889e+08</td>\n",
       "      <td>10.422857</td>\n",
       "      <td>46996.463381</td>\n",
       "    </tr>\n",
       "    <tr>\n",
       "      <th>std</th>\n",
       "      <td>88.133103</td>\n",
       "      <td>22757.313237</td>\n",
       "      <td>10.543146</td>\n",
       "      <td>6.531034</td>\n",
       "      <td>89.897899</td>\n",
       "      <td>3.211678e+09</td>\n",
       "      <td>0.708899</td>\n",
       "      <td>47751.830884</td>\n",
       "    </tr>\n",
       "    <tr>\n",
       "      <th>min</th>\n",
       "      <td>7.000000</td>\n",
       "      <td>358.000000</td>\n",
       "      <td>-43.700000</td>\n",
       "      <td>34.400000</td>\n",
       "      <td>714.130000</td>\n",
       "      <td>2.380000e+05</td>\n",
       "      <td>8.100000</td>\n",
       "      <td>1846.680000</td>\n",
       "    </tr>\n",
       "    <tr>\n",
       "      <th>25%</th>\n",
       "      <td>36.250000</td>\n",
       "      <td>2914.000000</td>\n",
       "      <td>-0.775000</td>\n",
       "      <td>61.625000</td>\n",
       "      <td>967.670000</td>\n",
       "      <td>3.854725e+07</td>\n",
       "      <td>9.900000</td>\n",
       "      <td>21041.660000</td>\n",
       "    </tr>\n",
       "    <tr>\n",
       "      <th>50%</th>\n",
       "      <td>65.000000</td>\n",
       "      <td>4824.500000</td>\n",
       "      <td>4.950000</td>\n",
       "      <td>66.650000</td>\n",
       "      <td>1013.625000</td>\n",
       "      <td>1.093080e+08</td>\n",
       "      <td>10.400000</td>\n",
       "      <td>32109.390000</td>\n",
       "    </tr>\n",
       "    <tr>\n",
       "      <th>75%</th>\n",
       "      <td>117.750000</td>\n",
       "      <td>10417.500000</td>\n",
       "      <td>10.675000</td>\n",
       "      <td>69.475000</td>\n",
       "      <td>1064.245000</td>\n",
       "      <td>3.805072e+08</td>\n",
       "      <td>10.800000</td>\n",
       "      <td>55925.072500</td>\n",
       "    </tr>\n",
       "    <tr>\n",
       "      <th>max</th>\n",
       "      <td>555.000000</td>\n",
       "      <td>294113.000000</td>\n",
       "      <td>34.500000</td>\n",
       "      <td>76.300000</td>\n",
       "      <td>1433.900000</td>\n",
       "      <td>4.550430e+10</td>\n",
       "      <td>12.700000</td>\n",
       "      <td>382538.370000</td>\n",
       "    </tr>\n",
       "  </tbody>\n",
       "</table>\n",
       "</div>"
      ],
      "text/plain": [
       "         povrsina     prebivalci     prirast  delovna_aktivnost        placa  \\\n",
       "count  210.000000     210.000000  210.000000         210.000000   210.000000   \n",
       "mean    96.385714    9921.300000    4.475714          64.822857  1020.556667   \n",
       "std     88.133103   22757.313237   10.543146           6.531034    89.897899   \n",
       "min      7.000000     358.000000  -43.700000          34.400000   714.130000   \n",
       "25%     36.250000    2914.000000   -0.775000          61.625000   967.670000   \n",
       "50%     65.000000    4824.500000    4.950000          66.650000  1013.625000   \n",
       "75%    117.750000   10417.500000   10.675000          69.475000  1064.245000   \n",
       "max    555.000000  294113.000000   34.500000          76.300000  1433.900000   \n",
       "\n",
       "           podjetja  starost_avtomobila  podjetje_na_zaposlenega  \n",
       "count  2.100000e+02          210.000000               210.000000  \n",
       "mean   5.770889e+08           10.422857             46996.463381  \n",
       "std    3.211678e+09            0.708899             47751.830884  \n",
       "min    2.380000e+05            8.100000              1846.680000  \n",
       "25%    3.854725e+07            9.900000             21041.660000  \n",
       "50%    1.093080e+08           10.400000             32109.390000  \n",
       "75%    3.805072e+08           10.800000             55925.072500  \n",
       "max    4.550430e+10           12.700000            382538.370000  "
      ]
     },
     "execution_count": 29,
     "metadata": {},
     "output_type": "execute_result"
    }
   ],
   "source": []
  },
  {
   "cell_type": "code",
   "execution_count": 4,
   "metadata": {},
   "outputs": [
    {
     "data": {
      "text/html": [
       "<div>\n",
       "<style scoped>\n",
       "    .dataframe tbody tr th:only-of-type {\n",
       "        vertical-align: middle;\n",
       "    }\n",
       "\n",
       "    .dataframe tbody tr th {\n",
       "        vertical-align: top;\n",
       "    }\n",
       "\n",
       "    .dataframe thead th {\n",
       "        text-align: right;\n",
       "    }\n",
       "</style>\n",
       "<table border=\"1\" class=\"dataframe\">\n",
       "  <thead>\n",
       "    <tr style=\"text-align: right;\">\n",
       "      <th></th>\n",
       "      <th>prebivalci</th>\n",
       "    </tr>\n",
       "    <tr>\n",
       "      <th>regija</th>\n",
       "      <th></th>\n",
       "    </tr>\n",
       "  </thead>\n",
       "  <tbody>\n",
       "    <tr>\n",
       "      <th>osrednjeslovenska</th>\n",
       "      <td>552221</td>\n",
       "    </tr>\n",
       "    <tr>\n",
       "      <th>podravska</th>\n",
       "      <td>324875</td>\n",
       "    </tr>\n",
       "    <tr>\n",
       "      <th>savinjska</th>\n",
       "      <td>257425</td>\n",
       "    </tr>\n",
       "    <tr>\n",
       "      <th>gorenjska</th>\n",
       "      <td>205717</td>\n",
       "    </tr>\n",
       "    <tr>\n",
       "      <th>jugovzhodna Slovenija</th>\n",
       "      <td>142066</td>\n",
       "    </tr>\n",
       "    <tr>\n",
       "      <th>goriška</th>\n",
       "      <td>118008</td>\n",
       "    </tr>\n",
       "    <tr>\n",
       "      <th>pomurska</th>\n",
       "      <td>114396</td>\n",
       "    </tr>\n",
       "    <tr>\n",
       "      <th>obalno-kraška</th>\n",
       "      <td>112398</td>\n",
       "    </tr>\n",
       "    <tr>\n",
       "      <th>posavska</th>\n",
       "      <td>75807</td>\n",
       "    </tr>\n",
       "    <tr>\n",
       "      <th>koroška</th>\n",
       "      <td>70683</td>\n",
       "    </tr>\n",
       "    <tr>\n",
       "      <th>zasavska</th>\n",
       "      <td>57059</td>\n",
       "    </tr>\n",
       "    <tr>\n",
       "      <th>primorsko-notranjska</th>\n",
       "      <td>52818</td>\n",
       "    </tr>\n",
       "  </tbody>\n",
       "</table>\n",
       "</div>"
      ],
      "text/plain": [
       "                       prebivalci\n",
       "regija                           \n",
       "osrednjeslovenska          552221\n",
       "podravska                  324875\n",
       "savinjska                  257425\n",
       "gorenjska                  205717\n",
       "jugovzhodna Slovenija      142066\n",
       "goriška                    118008\n",
       "pomurska                   114396\n",
       "obalno-kraška              112398\n",
       "posavska                    75807\n",
       "koroška                     70683\n",
       "zasavska                    57059\n",
       "primorsko-notranjska        52818"
      ]
     },
     "execution_count": 4,
     "metadata": {},
     "output_type": "execute_result"
    }
   ],
   "source": [
    "regije = obcine.groupby('regija').sum()[['prebivalci']].sort_values('prebivalci', ascending=False)\n",
    "regije"
   ]
  },
  {
   "cell_type": "code",
   "execution_count": 5,
   "metadata": {},
   "outputs": [
    {
     "data": {
      "image/png": "[encoded data removed]",
      "text/plain": [
       "<Figure size 720x576 with 1 Axes>"
      ]
     },
     "metadata": {},
     "output_type": "display_data"
    }
   ],
   "source": [
    "prebivalci = regije.prebivalci.plot.pie(figsize=(10, 8), title='Prebivalci po regijah')\n",
    "prebivalci.axes.get_yaxis().set_visible(False)"
   ]
  },
  {
   "cell_type": "code",
   "execution_count": 6,
   "metadata": {},
   "outputs": [
    {
     "data": {
      "text/html": [
       "<div>\n",
       "<style scoped>\n",
       "    .dataframe tbody tr th:only-of-type {\n",
       "        vertical-align: middle;\n",
       "    }\n",
       "\n",
       "    .dataframe tbody tr th {\n",
       "        vertical-align: top;\n",
       "    }\n",
       "\n",
       "    .dataframe thead th {\n",
       "        text-align: right;\n",
       "    }\n",
       "</style>\n",
       "<table border=\"1\" class=\"dataframe\">\n",
       "  <thead>\n",
       "    <tr style=\"text-align: right;\">\n",
       "      <th></th>\n",
       "      <th>ime_obcine</th>\n",
       "      <th>regija</th>\n",
       "      <th>povrsina</th>\n",
       "      <th>prebivalci</th>\n",
       "    </tr>\n",
       "    <tr>\n",
       "      <th>id</th>\n",
       "      <th></th>\n",
       "      <th></th>\n",
       "      <th></th>\n",
       "      <th></th>\n",
       "    </tr>\n",
       "  </thead>\n",
       "  <tbody>\n",
       "    <tr>\n",
       "      <th>82</th>\n",
       "      <td>Ljubljana</td>\n",
       "      <td>osrednjeslovenska</td>\n",
       "      <td>275</td>\n",
       "      <td>294113</td>\n",
       "    </tr>\n",
       "    <tr>\n",
       "      <th>94</th>\n",
       "      <td>Maribor</td>\n",
       "      <td>podravska</td>\n",
       "      <td>148</td>\n",
       "      <td>112095</td>\n",
       "    </tr>\n",
       "    <tr>\n",
       "      <th>72</th>\n",
       "      <td>Kranj</td>\n",
       "      <td>gorenjska</td>\n",
       "      <td>151</td>\n",
       "      <td>56715</td>\n",
       "    </tr>\n",
       "    <tr>\n",
       "      <th>68</th>\n",
       "      <td>Koper</td>\n",
       "      <td>obalno-kraška</td>\n",
       "      <td>303</td>\n",
       "      <td>52540</td>\n",
       "    </tr>\n",
       "    <tr>\n",
       "      <th>16</th>\n",
       "      <td>Celje</td>\n",
       "      <td>savinjska</td>\n",
       "      <td>95</td>\n",
       "      <td>49602</td>\n",
       "    </tr>\n",
       "    <tr>\n",
       "      <th>113</th>\n",
       "      <td>Novo mesto</td>\n",
       "      <td>jugovzhodna Slovenija</td>\n",
       "      <td>236</td>\n",
       "      <td>37280</td>\n",
       "    </tr>\n",
       "    <tr>\n",
       "      <th>34</th>\n",
       "      <td>Domžale</td>\n",
       "      <td>osrednjeslovenska</td>\n",
       "      <td>72</td>\n",
       "      <td>36429</td>\n",
       "    </tr>\n",
       "    <tr>\n",
       "      <th>190</th>\n",
       "      <td>Velenje</td>\n",
       "      <td>savinjska</td>\n",
       "      <td>84</td>\n",
       "      <td>33506</td>\n",
       "    </tr>\n",
       "    <tr>\n",
       "      <th>112</th>\n",
       "      <td>Nova Gorica</td>\n",
       "      <td>goriška</td>\n",
       "      <td>280</td>\n",
       "      <td>31932</td>\n",
       "    </tr>\n",
       "    <tr>\n",
       "      <th>60</th>\n",
       "      <td>Kamnik</td>\n",
       "      <td>osrednjeslovenska</td>\n",
       "      <td>266</td>\n",
       "      <td>29847</td>\n",
       "    </tr>\n",
       "    <tr>\n",
       "      <th>75</th>\n",
       "      <td>Krško</td>\n",
       "      <td>posavska</td>\n",
       "      <td>287</td>\n",
       "      <td>26117</td>\n",
       "    </tr>\n",
       "    <tr>\n",
       "      <th>152</th>\n",
       "      <td>Slovenska Bistrica</td>\n",
       "      <td>podravska</td>\n",
       "      <td>260</td>\n",
       "      <td>25690</td>\n",
       "    </tr>\n",
       "    <tr>\n",
       "      <th>14</th>\n",
       "      <td>Brežice</td>\n",
       "      <td>posavska</td>\n",
       "      <td>268</td>\n",
       "      <td>24157</td>\n",
       "    </tr>\n",
       "    <tr>\n",
       "      <th>130</th>\n",
       "      <td>Ptuj</td>\n",
       "      <td>podravska</td>\n",
       "      <td>67</td>\n",
       "      <td>23443</td>\n",
       "    </tr>\n",
       "    <tr>\n",
       "      <th>173</th>\n",
       "      <td>Škofja Loka</td>\n",
       "      <td>gorenjska</td>\n",
       "      <td>146</td>\n",
       "      <td>23216</td>\n",
       "    </tr>\n",
       "    <tr>\n",
       "      <th>205</th>\n",
       "      <td>Žalec</td>\n",
       "      <td>savinjska</td>\n",
       "      <td>117</td>\n",
       "      <td>21425</td>\n",
       "    </tr>\n",
       "    <tr>\n",
       "      <th>45</th>\n",
       "      <td>Grosuplje</td>\n",
       "      <td>osrednjeslovenska</td>\n",
       "      <td>134</td>\n",
       "      <td>21265</td>\n",
       "    </tr>\n",
       "    <tr>\n",
       "      <th>57</th>\n",
       "      <td>Jesenice</td>\n",
       "      <td>gorenjska</td>\n",
       "      <td>76</td>\n",
       "      <td>21168</td>\n",
       "    </tr>\n",
       "    <tr>\n",
       "      <th>1</th>\n",
       "      <td>Ajdovščina</td>\n",
       "      <td>goriška</td>\n",
       "      <td>245</td>\n",
       "      <td>19364</td>\n",
       "    </tr>\n",
       "    <tr>\n",
       "      <th>170</th>\n",
       "      <td>Šentjur</td>\n",
       "      <td>savinjska</td>\n",
       "      <td>222</td>\n",
       "      <td>19186</td>\n",
       "    </tr>\n",
       "    <tr>\n",
       "      <th>136</th>\n",
       "      <td>Radovljica</td>\n",
       "      <td>gorenjska</td>\n",
       "      <td>119</td>\n",
       "      <td>19053</td>\n",
       "    </tr>\n",
       "    <tr>\n",
       "      <th>108</th>\n",
       "      <td>Murska Sobota</td>\n",
       "      <td>pomurska</td>\n",
       "      <td>64</td>\n",
       "      <td>18742</td>\n",
       "    </tr>\n",
       "    <tr>\n",
       "      <th>119</th>\n",
       "      <td>Piran</td>\n",
       "      <td>obalno-kraška</td>\n",
       "      <td>43</td>\n",
       "      <td>17692</td>\n",
       "    </tr>\n",
       "    <tr>\n",
       "      <th>149</th>\n",
       "      <td>Sevnica</td>\n",
       "      <td>posavska</td>\n",
       "      <td>272</td>\n",
       "      <td>17586</td>\n",
       "    </tr>\n",
       "    <tr>\n",
       "      <th>200</th>\n",
       "      <td>Vrhnika</td>\n",
       "      <td>osrednjeslovenska</td>\n",
       "      <td>116</td>\n",
       "      <td>17452</td>\n",
       "    </tr>\n",
       "  </tbody>\n",
       "</table>\n",
       "</div>"
      ],
      "text/plain": [
       "             ime_obcine                 regija  povrsina  prebivalci\n",
       "id                                                                  \n",
       "82            Ljubljana      osrednjeslovenska       275      294113\n",
       "94              Maribor              podravska       148      112095\n",
       "72                Kranj              gorenjska       151       56715\n",
       "68                Koper          obalno-kraška       303       52540\n",
       "16                Celje              savinjska        95       49602\n",
       "113          Novo mesto  jugovzhodna Slovenija       236       37280\n",
       "34              Domžale      osrednjeslovenska        72       36429\n",
       "190             Velenje              savinjska        84       33506\n",
       "112         Nova Gorica                goriška       280       31932\n",
       "60               Kamnik      osrednjeslovenska       266       29847\n",
       "75                Krško               posavska       287       26117\n",
       "152  Slovenska Bistrica              podravska       260       25690\n",
       "14              Brežice               posavska       268       24157\n",
       "130                Ptuj              podravska        67       23443\n",
       "173         Škofja Loka              gorenjska       146       23216\n",
       "205               Žalec              savinjska       117       21425\n",
       "45            Grosuplje      osrednjeslovenska       134       21265\n",
       "57             Jesenice              gorenjska        76       21168\n",
       "1            Ajdovščina                goriška       245       19364\n",
       "170             Šentjur              savinjska       222       19186\n",
       "136          Radovljica              gorenjska       119       19053\n",
       "108       Murska Sobota               pomurska        64       18742\n",
       "119               Piran          obalno-kraška        43       17692\n",
       "149             Sevnica               posavska       272       17586\n",
       "200             Vrhnika      osrednjeslovenska       116       17452"
      ]
     },
     "execution_count": 6,
     "metadata": {},
     "output_type": "execute_result"
    }
   ],
   "source": [
    "top_obcine = obcine.nlargest(25, ['prebivalci'])\n",
    "top_obcine[['ime_obcine', 'regija', 'povrsina', 'prebivalci']]"
   ]
  },
  {
   "cell_type": "code",
   "execution_count": 7,
   "metadata": {},
   "outputs": [
    {
     "data": {
      "text/plain": [
       "1049615"
      ]
     },
     "execution_count": 7,
     "metadata": {},
     "output_type": "execute_result"
    }
   ],
   "source": [
    "top_obcine['prebivalci'].sum() "
   ]
  },
  {
   "cell_type": "markdown",
   "metadata": {},
   "source": [
    "Kot lahko vidimo, je veliko prebivalstva skoncentriranega na območju tako imenovanih mestnih občin (Ljubljana, Maribor, Kranj, Koper, Celje, Novo mesto, Velenje, Nova Gorica, Krško, Ptuj, MUrska Sobota, Slovenj Gradec) in njihovih bližnjih gravitacijskih občin. Tovrsten naziv po Zakonu o lokalni samoupravi dobijo občine, ki imajo najmanj 15 tisoč delovnih mest, od tega s precejšnjo večino v terciarnem in kvartarnem sektorju dejavnosti, poleg tega pa so tudi pomembna središča širšega območja."
   ]
  },
  {
   "cell_type": "markdown",
   "metadata": {},
   "source": [
    "Izračunajmo še število občin, ki pripadajo posamezni statistični regiji."
   ]
  },
  {
   "cell_type": "code",
   "execution_count": 8,
   "metadata": {},
   "outputs": [
    {
     "data": {
      "text/plain": [
       "regija\n",
       "gorenjska                18\n",
       "goriška                  13\n",
       "jugovzhodna Slovenija    20\n",
       "koroška                  12\n",
       "obalno-kraška             7\n",
       "osrednjeslovenska        25\n",
       "podravska                41\n",
       "pomurska                 27\n",
       "posavska                  6\n",
       "primorsko-notranjska      6\n",
       "savinjska                31\n",
       "zasavska                  4\n",
       "dtype: int64"
      ]
     },
     "execution_count": 8,
     "metadata": {},
     "output_type": "execute_result"
    }
   ],
   "source": [
    "regijsko = obcine[['ime_obcine', 'regija']]\n",
    "regije_prestete = regijsko.pivot_table(columns=['regija'], aggfunc='size')\n",
    "regije_prestete\n"
   ]
  },
  {
   "cell_type": "markdown",
   "metadata": {},
   "source": [
    "#### **Delovna aktivnost**"
   ]
  },
  {
   "cell_type": "markdown",
   "metadata": {},
   "source": [
    "S primernim grafom lahko poskušamo ugotoviti, ali obstaja korelacija med delovno aktivnostjo in plačo v danih občinah v državi."
   ]
  },
  {
   "cell_type": "code",
   "execution_count": 9,
   "metadata": {},
   "outputs": [
    {
     "data": {
      "text/plain": [
       "<matplotlib.lines.Line2D at 0x2515f0c5dc0>"
      ]
     },
     "execution_count": 9,
     "metadata": {},
     "output_type": "execute_result"
    },
    {
     "data": {
      "image/png": "[encoded data removed]",
      "text/plain": [
       "<Figure size 720x504 with 1 Axes>"
      ]
     },
     "metadata": {
      "needs_background": "light"
     },
     "output_type": "display_data"
    }
   ],
   "source": [
    "graf = obcine[['delovna_aktivnost', 'placa']].plot.scatter('delovna_aktivnost', 'placa', figsize=(10,7), color='green')\n",
    "graf.axhline(y=obcine.placa.mean(), color='blue', linestyle='--', lw=1)"
   ]
  },
  {
   "cell_type": "code",
   "execution_count": 10,
   "metadata": {},
   "outputs": [
    {
     "data": {
      "text/plain": [
       "0.2272548765280123"
      ]
     },
     "execution_count": 10,
     "metadata": {},
     "output_type": "execute_result"
    }
   ],
   "source": [
    "obcine['placa'].corr(obcine['delovna_aktivnost'])"
   ]
  },
  {
   "cell_type": "markdown",
   "metadata": {},
   "source": [
    "Vidimo lahko, da v večini delovna aktivnost ne bistveno vpliva na višino povprečne neto plače na prebivalca v posamezni občini, oziroma vsaj ni jasne korelacije. Pri delovno aktivnejših so sicer odkloni rahlo višji navzgor, ampak imajo tudi primerljive občine nižji neto dohodek na prebivalca.\n"
   ]
  },
  {
   "cell_type": "markdown",
   "metadata": {},
   "source": [
    "Podrobneje si poglejmo skrajne primere delovno aktivnih občin."
   ]
  },
  {
   "cell_type": "code",
   "execution_count": 11,
   "metadata": {},
   "outputs": [
    {
     "data": {
      "text/html": [
       "<div>\n",
       "<style scoped>\n",
       "    .dataframe tbody tr th:only-of-type {\n",
       "        vertical-align: middle;\n",
       "    }\n",
       "\n",
       "    .dataframe tbody tr th {\n",
       "        vertical-align: top;\n",
       "    }\n",
       "\n",
       "    .dataframe thead th {\n",
       "        text-align: right;\n",
       "    }\n",
       "</style>\n",
       "<table border=\"1\" class=\"dataframe\">\n",
       "  <thead>\n",
       "    <tr style=\"text-align: right;\">\n",
       "      <th></th>\n",
       "      <th>ime_obcine</th>\n",
       "      <th>povrsina</th>\n",
       "      <th>prebivalci</th>\n",
       "      <th>regija</th>\n",
       "      <th>prirast</th>\n",
       "      <th>delovna_aktivnost</th>\n",
       "      <th>placa</th>\n",
       "    </tr>\n",
       "    <tr>\n",
       "      <th>id</th>\n",
       "      <th></th>\n",
       "      <th></th>\n",
       "      <th></th>\n",
       "      <th></th>\n",
       "      <th></th>\n",
       "      <th></th>\n",
       "      <th></th>\n",
       "    </tr>\n",
       "  </thead>\n",
       "  <tbody>\n",
       "    <tr>\n",
       "      <th>7</th>\n",
       "      <td>Bloke</td>\n",
       "      <td>75</td>\n",
       "      <td>1567</td>\n",
       "      <td>primorsko-notranjska</td>\n",
       "      <td>6.4</td>\n",
       "      <td>76.3</td>\n",
       "      <td>997.50</td>\n",
       "    </tr>\n",
       "    <tr>\n",
       "      <th>208</th>\n",
       "      <td>Žiri</td>\n",
       "      <td>49</td>\n",
       "      <td>4915</td>\n",
       "      <td>gorenjska</td>\n",
       "      <td>11.0</td>\n",
       "      <td>74.3</td>\n",
       "      <td>1023.21</td>\n",
       "    </tr>\n",
       "    <tr>\n",
       "      <th>176</th>\n",
       "      <td>Šmarješke Toplice</td>\n",
       "      <td>34</td>\n",
       "      <td>3400</td>\n",
       "      <td>jugovzhodna Slovenija</td>\n",
       "      <td>25.0</td>\n",
       "      <td>73.8</td>\n",
       "      <td>1018.17</td>\n",
       "    </tr>\n",
       "    <tr>\n",
       "      <th>55</th>\n",
       "      <td>Ivančna Gorica</td>\n",
       "      <td>227</td>\n",
       "      <td>16880</td>\n",
       "      <td>osrednjeslovenska</td>\n",
       "      <td>12.9</td>\n",
       "      <td>73.4</td>\n",
       "      <td>1075.69</td>\n",
       "    </tr>\n",
       "    <tr>\n",
       "      <th>52</th>\n",
       "      <td>Idrija</td>\n",
       "      <td>294</td>\n",
       "      <td>11797</td>\n",
       "      <td>goriška</td>\n",
       "      <td>5.3</td>\n",
       "      <td>72.8</td>\n",
       "      <td>1162.22</td>\n",
       "    </tr>\n",
       "    <tr>\n",
       "      <th>49</th>\n",
       "      <td>Horjul</td>\n",
       "      <td>33</td>\n",
       "      <td>3032</td>\n",
       "      <td>osrednjeslovenska</td>\n",
       "      <td>3.3</td>\n",
       "      <td>72.6</td>\n",
       "      <td>1143.16</td>\n",
       "    </tr>\n",
       "    <tr>\n",
       "      <th>185</th>\n",
       "      <td>Trebnje</td>\n",
       "      <td>163</td>\n",
       "      <td>13018</td>\n",
       "      <td>jugovzhodna Slovenija</td>\n",
       "      <td>17.8</td>\n",
       "      <td>72.3</td>\n",
       "      <td>1040.98</td>\n",
       "    </tr>\n",
       "  </tbody>\n",
       "</table>\n",
       "</div>"
      ],
      "text/plain": [
       "            ime_obcine  povrsina  prebivalci                 regija  prirast  \\\n",
       "id                                                                             \n",
       "7                Bloke        75        1567   primorsko-notranjska      6.4   \n",
       "208               Žiri        49        4915              gorenjska     11.0   \n",
       "176  Šmarješke Toplice        34        3400  jugovzhodna Slovenija     25.0   \n",
       "55      Ivančna Gorica       227       16880      osrednjeslovenska     12.9   \n",
       "52              Idrija       294       11797                goriška      5.3   \n",
       "49              Horjul        33        3032      osrednjeslovenska      3.3   \n",
       "185            Trebnje       163       13018  jugovzhodna Slovenija     17.8   \n",
       "\n",
       "     delovna_aktivnost    placa  \n",
       "id                               \n",
       "7                 76.3   997.50  \n",
       "208               74.3  1023.21  \n",
       "176               73.8  1018.17  \n",
       "55                73.4  1075.69  \n",
       "52                72.8  1162.22  \n",
       "49                72.6  1143.16  \n",
       "185               72.3  1040.98  "
      ]
     },
     "execution_count": 11,
     "metadata": {},
     "output_type": "execute_result"
    }
   ],
   "source": [
    "obcine.nlargest(7, 'delovna_aktivnost')[['ime_obcine', 'povrsina', 'prebivalci', 'regija', 'prirast', 'delovna_aktivnost', 'placa']]"
   ]
  },
  {
   "cell_type": "code",
   "execution_count": 12,
   "metadata": {},
   "outputs": [
    {
     "data": {
      "text/html": [
       "<div>\n",
       "<style scoped>\n",
       "    .dataframe tbody tr th:only-of-type {\n",
       "        vertical-align: middle;\n",
       "    }\n",
       "\n",
       "    .dataframe tbody tr th {\n",
       "        vertical-align: top;\n",
       "    }\n",
       "\n",
       "    .dataframe thead th {\n",
       "        text-align: right;\n",
       "    }\n",
       "</style>\n",
       "<table border=\"1\" class=\"dataframe\">\n",
       "  <thead>\n",
       "    <tr style=\"text-align: right;\">\n",
       "      <th></th>\n",
       "      <th>ime_obcine</th>\n",
       "      <th>povrsina</th>\n",
       "      <th>prebivalci</th>\n",
       "      <th>regija</th>\n",
       "      <th>prirast</th>\n",
       "      <th>delovna_aktivnost</th>\n",
       "      <th>placa</th>\n",
       "    </tr>\n",
       "    <tr>\n",
       "      <th>id</th>\n",
       "      <th></th>\n",
       "      <th></th>\n",
       "      <th></th>\n",
       "      <th></th>\n",
       "      <th></th>\n",
       "      <th></th>\n",
       "      <th></th>\n",
       "    </tr>\n",
       "  </thead>\n",
       "  <tbody>\n",
       "    <tr>\n",
       "      <th>77</th>\n",
       "      <td>Kuzma</td>\n",
       "      <td>23</td>\n",
       "      <td>1574</td>\n",
       "      <td>pomurska</td>\n",
       "      <td>0.0</td>\n",
       "      <td>34.4</td>\n",
       "      <td>917.21</td>\n",
       "    </tr>\n",
       "    <tr>\n",
       "      <th>48</th>\n",
       "      <td>Hodoš</td>\n",
       "      <td>18</td>\n",
       "      <td>358</td>\n",
       "      <td>pomurska</td>\n",
       "      <td>-2.8</td>\n",
       "      <td>36.0</td>\n",
       "      <td>832.76</td>\n",
       "    </tr>\n",
       "    <tr>\n",
       "      <th>144</th>\n",
       "      <td>Rogašovci</td>\n",
       "      <td>40</td>\n",
       "      <td>3070</td>\n",
       "      <td>pomurska</td>\n",
       "      <td>-11.7</td>\n",
       "      <td>39.2</td>\n",
       "      <td>934.13</td>\n",
       "    </tr>\n",
       "    <tr>\n",
       "      <th>117</th>\n",
       "      <td>Osilnica</td>\n",
       "      <td>36</td>\n",
       "      <td>366</td>\n",
       "      <td>jugovzhodna Slovenija</td>\n",
       "      <td>-43.7</td>\n",
       "      <td>44.7</td>\n",
       "      <td>714.13</td>\n",
       "    </tr>\n",
       "    <tr>\n",
       "      <th>2</th>\n",
       "      <td>Apače</td>\n",
       "      <td>54</td>\n",
       "      <td>3532</td>\n",
       "      <td>pomurska</td>\n",
       "      <td>5.1</td>\n",
       "      <td>45.0</td>\n",
       "      <td>978.90</td>\n",
       "    </tr>\n",
       "    <tr>\n",
       "      <th>44</th>\n",
       "      <td>Grad</td>\n",
       "      <td>37</td>\n",
       "      <td>2063</td>\n",
       "      <td>pomurska</td>\n",
       "      <td>-17.0</td>\n",
       "      <td>46.5</td>\n",
       "      <td>981.47</td>\n",
       "    </tr>\n",
       "    <tr>\n",
       "      <th>15</th>\n",
       "      <td>Cankova</td>\n",
       "      <td>31</td>\n",
       "      <td>1724</td>\n",
       "      <td>pomurska</td>\n",
       "      <td>-0.6</td>\n",
       "      <td>48.3</td>\n",
       "      <td>965.71</td>\n",
       "    </tr>\n",
       "  </tbody>\n",
       "</table>\n",
       "</div>"
      ],
      "text/plain": [
       "    ime_obcine  povrsina  prebivalci                 regija  prirast  \\\n",
       "id                                                                     \n",
       "77       Kuzma        23        1574               pomurska      0.0   \n",
       "48       Hodoš        18         358               pomurska     -2.8   \n",
       "144  Rogašovci        40        3070               pomurska    -11.7   \n",
       "117   Osilnica        36         366  jugovzhodna Slovenija    -43.7   \n",
       "2        Apače        54        3532               pomurska      5.1   \n",
       "44        Grad        37        2063               pomurska    -17.0   \n",
       "15     Cankova        31        1724               pomurska     -0.6   \n",
       "\n",
       "     delovna_aktivnost   placa  \n",
       "id                              \n",
       "77                34.4  917.21  \n",
       "48                36.0  832.76  \n",
       "144               39.2  934.13  \n",
       "117               44.7  714.13  \n",
       "2                 45.0  978.90  \n",
       "44                46.5  981.47  \n",
       "15                48.3  965.71  "
      ]
     },
     "execution_count": 12,
     "metadata": {},
     "output_type": "execute_result"
    }
   ],
   "source": [
    "obcine.nsmallest(7, 'delovna_aktivnost')[['ime_obcine', 'povrsina', 'prebivalci', 'regija', 'prirast', 'delovna_aktivnost', 'placa']]"
   ]
  },
  {
   "cell_type": "markdown",
   "metadata": {},
   "source": [
    "Zanimivo je delovno najbolj aktivna občina na plačnem nivoju pod povprečjem."
   ]
  },
  {
   "cell_type": "markdown",
   "metadata": {},
   "source": [
    "Za občine pri repu lahko trdimo, da so to občine z nižje plačanimi prebivalci. Kot vidimo gre za majhne občine iz pomurske regije, opazimo pa tudi dejstvo, da je na območju teh občin prirast pretežno negativen, zaradi česar ni napačno trditi, da je stopnja odseljevanja tukaj precej velika. Tovrstna dejstva tudi suvereno implicirajo starostno porazdelitev in starostno piramido v obliki žare."
   ]
  },
  {
   "cell_type": "markdown",
   "metadata": {},
   "source": [
    "#### **Osebni dohodki**"
   ]
  },
  {
   "cell_type": "markdown",
   "metadata": {},
   "source": [
    "Izračunajmo povprečne plače po posameznih regijah."
   ]
  },
  {
   "cell_type": "code",
   "execution_count": 13,
   "metadata": {},
   "outputs": [
    {
     "data": {
      "text/plain": [
       "regija\n",
       "gorenjska                1082.77\n",
       "goriška                  1051.98\n",
       "koroška                  1049.84\n",
       "osrednjeslovenska        1048.03\n",
       "zasavska                 1033.46\n",
       "obalno-kraška            1032.95\n",
       "posavska                 1018.29\n",
       "jugovzhodna Slovenija    1016.44\n",
       "savinjska                1002.17\n",
       "primorsko-notranjska     1000.42\n",
       "podravska                 992.86\n",
       "pomurska                  991.58\n",
       "dtype: float64"
      ]
     },
     "execution_count": 13,
     "metadata": {},
     "output_type": "execute_result"
    }
   ],
   "source": [
    "sum_place = obcine.groupby('regija').sum()[['placa']].sort_values('regija', ascending=False)\n",
    "avg_place = (sum_place.placa / regije_prestete).round(decimals=2)\n",
    "avg_place.sort_values(ascending=False)"
   ]
  },
  {
   "cell_type": "code",
   "execution_count": 14,
   "metadata": {},
   "outputs": [
    {
     "data": {
      "text/plain": [
       "<AxesSubplot:title={'center':'Povprečna neto plača v regiji'}, xlabel='regija'>"
      ]
     },
     "execution_count": 14,
     "metadata": {},
     "output_type": "execute_result"
    },
    {
     "data": {
      "image/png": "[encoded data removed]",
      "text/plain": [
       "<Figure size 720x360 with 1 Axes>"
      ]
     },
     "metadata": {
      "needs_background": "light"
     },
     "output_type": "display_data"
    }
   ],
   "source": [
    "avg_place.plot.bar(ylim=(950, 1100), figsize=(10,5), title='Povprečna neto plača v regiji')"
   ]
  },
  {
   "cell_type": "markdown",
   "metadata": {},
   "source": [
    "Nato izberimo v vsaki regiji občino z najvišjim povprečnim neto dohodkom in naredimo primerjavo."
   ]
  },
  {
   "cell_type": "code",
   "execution_count": 15,
   "metadata": {},
   "outputs": [
    {
     "data": {
      "text/html": [
       "<div>\n",
       "<style scoped>\n",
       "    .dataframe tbody tr th:only-of-type {\n",
       "        vertical-align: middle;\n",
       "    }\n",
       "\n",
       "    .dataframe tbody tr th {\n",
       "        vertical-align: top;\n",
       "    }\n",
       "\n",
       "    .dataframe thead th {\n",
       "        text-align: right;\n",
       "    }\n",
       "</style>\n",
       "<table border=\"1\" class=\"dataframe\">\n",
       "  <thead>\n",
       "    <tr style=\"text-align: right;\">\n",
       "      <th></th>\n",
       "      <th>regija</th>\n",
       "      <th>ime_obcine</th>\n",
       "      <th>placa</th>\n",
       "    </tr>\n",
       "  </thead>\n",
       "  <tbody>\n",
       "    <tr>\n",
       "      <th>0</th>\n",
       "      <td>gorenjska</td>\n",
       "      <td>Cerklje na Gorenjskem</td>\n",
       "      <td>1433.90</td>\n",
       "    </tr>\n",
       "    <tr>\n",
       "      <th>2</th>\n",
       "      <td>jugovzhodna Slovenija</td>\n",
       "      <td>Novo mesto</td>\n",
       "      <td>1286.19</td>\n",
       "    </tr>\n",
       "    <tr>\n",
       "      <th>5</th>\n",
       "      <td>osrednjeslovenska</td>\n",
       "      <td>Ljubljana</td>\n",
       "      <td>1281.66</td>\n",
       "    </tr>\n",
       "    <tr>\n",
       "      <th>6</th>\n",
       "      <td>podravska</td>\n",
       "      <td>Podlehnik</td>\n",
       "      <td>1236.24</td>\n",
       "    </tr>\n",
       "    <tr>\n",
       "      <th>3</th>\n",
       "      <td>koroška</td>\n",
       "      <td>Mežica</td>\n",
       "      <td>1195.89</td>\n",
       "    </tr>\n",
       "    <tr>\n",
       "      <th>10</th>\n",
       "      <td>savinjska</td>\n",
       "      <td>Štore</td>\n",
       "      <td>1177.18</td>\n",
       "    </tr>\n",
       "    <tr>\n",
       "      <th>4</th>\n",
       "      <td>obalno-kraška</td>\n",
       "      <td>Koper</td>\n",
       "      <td>1176.38</td>\n",
       "    </tr>\n",
       "    <tr>\n",
       "      <th>8</th>\n",
       "      <td>posavska</td>\n",
       "      <td>Krško</td>\n",
       "      <td>1169.26</td>\n",
       "    </tr>\n",
       "    <tr>\n",
       "      <th>1</th>\n",
       "      <td>goriška</td>\n",
       "      <td>Idrija</td>\n",
       "      <td>1162.22</td>\n",
       "    </tr>\n",
       "    <tr>\n",
       "      <th>7</th>\n",
       "      <td>pomurska</td>\n",
       "      <td>Križevci</td>\n",
       "      <td>1133.95</td>\n",
       "    </tr>\n",
       "    <tr>\n",
       "      <th>11</th>\n",
       "      <td>zasavska</td>\n",
       "      <td>Trbovlje</td>\n",
       "      <td>1094.38</td>\n",
       "    </tr>\n",
       "    <tr>\n",
       "      <th>9</th>\n",
       "      <td>primorsko-notranjska</td>\n",
       "      <td>Ilirska Bistrica</td>\n",
       "      <td>1063.03</td>\n",
       "    </tr>\n",
       "  </tbody>\n",
       "</table>\n",
       "</div>"
      ],
      "text/plain": [
       "                   regija             ime_obcine    placa\n",
       "0               gorenjska  Cerklje na Gorenjskem  1433.90\n",
       "2   jugovzhodna Slovenija             Novo mesto  1286.19\n",
       "5       osrednjeslovenska              Ljubljana  1281.66\n",
       "6               podravska              Podlehnik  1236.24\n",
       "3                 koroška                 Mežica  1195.89\n",
       "10              savinjska                  Štore  1177.18\n",
       "4           obalno-kraška                  Koper  1176.38\n",
       "8                posavska                  Krško  1169.26\n",
       "1                 goriška                 Idrija  1162.22\n",
       "7                pomurska               Križevci  1133.95\n",
       "11               zasavska               Trbovlje  1094.38\n",
       "9    primorsko-notranjska       Ilirska Bistrica  1063.03"
      ]
     },
     "execution_count": 15,
     "metadata": {},
     "output_type": "execute_result"
    }
   ],
   "source": [
    "obcine.set_index(['ime_obcine']).groupby('regija')['placa'].nlargest(1).reset_index().sort_values(['placa'], ascending=False)"
   ]
  },
  {
   "cell_type": "markdown",
   "metadata": {},
   "source": [
    "Zgornja tabela nam lahko pove kaj o homogenosti celotne regije oziroma o nekakšni (poli)centričnosti znotraj regije. Vidimo lahko, da v približno polovici primerov plačno najmočnejše občine ne ustrezajo občinam z \"de facto\" glavnim mestom regije."
   ]
  },
  {
   "cell_type": "markdown",
   "metadata": {},
   "source": [
    "Kot obakratna vodilna se tukaj pokaže gorenjska regija, ki ima in najboljše regijsko povprečje in najboljše občinsko povprečje, je pa tudi precej policentrično strukturirana. "
   ]
  },
  {
   "cell_type": "markdown",
   "metadata": {},
   "source": [
    "Morda presenečajo nekatera večja odstopanja pri primerjavi obeh tabel oziroma njuni razvrstitvi.\n",
    "Goriška na primer kot regija kotira precej visoko v tem vidiku, vendar njena dohodkovno najmočnejša občina stoji precej nizko. Nasprotno lahko vidimo v primeru podravske regije."
   ]
  },
  {
   "cell_type": "markdown",
   "metadata": {},
   "source": [
    "V grobem raziščimo morebitno korelacijo med višino plače in naravnim prirastom lokalnega prebivalstva."
   ]
  },
  {
   "cell_type": "code",
   "execution_count": 16,
   "metadata": {},
   "outputs": [
    {
     "data": {
      "text/plain": [
       "<matplotlib.lines.Line2D at 0x25171fb6190>"
      ]
     },
     "execution_count": 16,
     "metadata": {},
     "output_type": "execute_result"
    },
    {
     "data": {
      "image/png": "[encoded data removed]",
      "text/plain": [
       "<Figure size 720x504 with 1 Axes>"
      ]
     },
     "metadata": {
      "needs_background": "light"
     },
     "output_type": "display_data"
    }
   ],
   "source": [
    "prirast = obcine[['prirast', 'placa']].plot.scatter('prirast', 'placa', figsize=(10,7), color='red')\n",
    "prirast.axhline(y=obcine.placa.mean(), color='blue', linestyle='--', lw=2)"
   ]
  },
  {
   "cell_type": "code",
   "execution_count": 17,
   "metadata": {},
   "outputs": [
    {
     "data": {
      "text/plain": [
       "0.09492769933546429"
      ]
     },
     "execution_count": 17,
     "metadata": {},
     "output_type": "execute_result"
    }
   ],
   "source": [
    "obcine['placa'].corr(obcine['prirast'])"
   ]
  },
  {
   "cell_type": "markdown",
   "metadata": {},
   "source": [
    "Posebnih korelacij ne opazimo."
   ]
  },
  {
   "cell_type": "markdown",
   "metadata": {},
   "source": [
    "#### **Zaslužki podjetij**"
   ]
  },
  {
   "cell_type": "markdown",
   "metadata": {},
   "source": [
    "Poglejmo si tudi stanje s prihodki podjetij v občinah in regijah. Pri tem je morda smiselno za primerjavo uporabiti neto dohodek podjetja na delovno aktivnega prebivalca v posamezni občini in celovkupen neto dohodek podjetja na posameznega prebivalca v regiji. "
   ]
  },
  {
   "cell_type": "code",
   "execution_count": 18,
   "metadata": {},
   "outputs": [
    {
     "data": {
      "text/html": [
       "<div>\n",
       "<style scoped>\n",
       "    .dataframe tbody tr th:only-of-type {\n",
       "        vertical-align: middle;\n",
       "    }\n",
       "\n",
       "    .dataframe tbody tr th {\n",
       "        vertical-align: top;\n",
       "    }\n",
       "\n",
       "    .dataframe thead th {\n",
       "        text-align: right;\n",
       "    }\n",
       "</style>\n",
       "<table border=\"1\" class=\"dataframe\">\n",
       "  <thead>\n",
       "    <tr style=\"text-align: right;\">\n",
       "      <th></th>\n",
       "      <th>ime_obcine</th>\n",
       "      <th>regija</th>\n",
       "      <th>prebivalci</th>\n",
       "      <th>delovna_aktivnost</th>\n",
       "      <th>placa</th>\n",
       "      <th>podjetje_na_zaposlenega</th>\n",
       "    </tr>\n",
       "    <tr>\n",
       "      <th>id</th>\n",
       "      <th></th>\n",
       "      <th></th>\n",
       "      <th></th>\n",
       "      <th></th>\n",
       "      <th></th>\n",
       "      <th></th>\n",
       "    </tr>\n",
       "  </thead>\n",
       "  <tbody>\n",
       "    <tr>\n",
       "      <th>187</th>\n",
       "      <td>Trzin</td>\n",
       "      <td>osrednjeslovenska</td>\n",
       "      <td>3923</td>\n",
       "      <td>71.2</td>\n",
       "      <td>1123.40</td>\n",
       "      <td>382538.37</td>\n",
       "    </tr>\n",
       "    <tr>\n",
       "      <th>82</th>\n",
       "      <td>Ljubljana</td>\n",
       "      <td>osrednjeslovenska</td>\n",
       "      <td>294113</td>\n",
       "      <td>66.0</td>\n",
       "      <td>1281.66</td>\n",
       "      <td>234419.79</td>\n",
       "    </tr>\n",
       "    <tr>\n",
       "      <th>111</th>\n",
       "      <td>Nazarje</td>\n",
       "      <td>savinjska</td>\n",
       "      <td>2608</td>\n",
       "      <td>66.9</td>\n",
       "      <td>1072.53</td>\n",
       "      <td>233853.29</td>\n",
       "    </tr>\n",
       "    <tr>\n",
       "      <th>114</th>\n",
       "      <td>Odranci</td>\n",
       "      <td>pomurska</td>\n",
       "      <td>1644</td>\n",
       "      <td>67.0</td>\n",
       "      <td>961.71</td>\n",
       "      <td>213546.32</td>\n",
       "    </tr>\n",
       "    <tr>\n",
       "      <th>67</th>\n",
       "      <td>Komenda</td>\n",
       "      <td>osrednjeslovenska</td>\n",
       "      <td>6345</td>\n",
       "      <td>71.7</td>\n",
       "      <td>1193.57</td>\n",
       "      <td>202342.96</td>\n",
       "    </tr>\n",
       "    <tr>\n",
       "      <th>...</th>\n",
       "      <td>...</td>\n",
       "      <td>...</td>\n",
       "      <td>...</td>\n",
       "      <td>...</td>\n",
       "      <td>...</td>\n",
       "      <td>...</td>\n",
       "    </tr>\n",
       "    <tr>\n",
       "      <th>181</th>\n",
       "      <td>Tabor</td>\n",
       "      <td>savinjska</td>\n",
       "      <td>1659</td>\n",
       "      <td>70.4</td>\n",
       "      <td>866.34</td>\n",
       "      <td>6925.04</td>\n",
       "    </tr>\n",
       "    <tr>\n",
       "      <th>207</th>\n",
       "      <td>Žetale</td>\n",
       "      <td>podravska</td>\n",
       "      <td>1297</td>\n",
       "      <td>65.6</td>\n",
       "      <td>1029.91</td>\n",
       "      <td>6693.45</td>\n",
       "    </tr>\n",
       "    <tr>\n",
       "      <th>165</th>\n",
       "      <td>Šalovci</td>\n",
       "      <td>pomurska</td>\n",
       "      <td>1383</td>\n",
       "      <td>54.4</td>\n",
       "      <td>996.00</td>\n",
       "      <td>5203.68</td>\n",
       "    </tr>\n",
       "    <tr>\n",
       "      <th>164</th>\n",
       "      <td>Sveti Tomaž</td>\n",
       "      <td>podravska</td>\n",
       "      <td>1998</td>\n",
       "      <td>65.4</td>\n",
       "      <td>1027.40</td>\n",
       "      <td>3751.46</td>\n",
       "    </tr>\n",
       "    <tr>\n",
       "      <th>48</th>\n",
       "      <td>Hodoš</td>\n",
       "      <td>pomurska</td>\n",
       "      <td>358</td>\n",
       "      <td>36.0</td>\n",
       "      <td>832.76</td>\n",
       "      <td>1846.68</td>\n",
       "    </tr>\n",
       "  </tbody>\n",
       "</table>\n",
       "<p>210 rows × 6 columns</p>\n",
       "</div>"
      ],
      "text/plain": [
       "      ime_obcine             regija  prebivalci  delovna_aktivnost    placa  \\\n",
       "id                                                                            \n",
       "187        Trzin  osrednjeslovenska        3923               71.2  1123.40   \n",
       "82     Ljubljana  osrednjeslovenska      294113               66.0  1281.66   \n",
       "111      Nazarje          savinjska        2608               66.9  1072.53   \n",
       "114      Odranci           pomurska        1644               67.0   961.71   \n",
       "67       Komenda  osrednjeslovenska        6345               71.7  1193.57   \n",
       "..           ...                ...         ...                ...      ...   \n",
       "181        Tabor          savinjska        1659               70.4   866.34   \n",
       "207       Žetale          podravska        1297               65.6  1029.91   \n",
       "165      Šalovci           pomurska        1383               54.4   996.00   \n",
       "164  Sveti Tomaž          podravska        1998               65.4  1027.40   \n",
       "48         Hodoš           pomurska         358               36.0   832.76   \n",
       "\n",
       "     podjetje_na_zaposlenega  \n",
       "id                            \n",
       "187                382538.37  \n",
       "82                 234419.79  \n",
       "111                233853.29  \n",
       "114                213546.32  \n",
       "67                 202342.96  \n",
       "..                       ...  \n",
       "181                  6925.04  \n",
       "207                  6693.45  \n",
       "165                  5203.68  \n",
       "164                  3751.46  \n",
       "48                   1846.68  \n",
       "\n",
       "[210 rows x 6 columns]"
      ]
     },
     "execution_count": 18,
     "metadata": {},
     "output_type": "execute_result"
    }
   ],
   "source": [
    "obcine['podjetje_na_zaposlenega'] = round(obcine.podjetja / ((obcine.delovna_aktivnost / 100) * obcine.prebivalci), 2)\n",
    "podjetni = obcine[['ime_obcine', 'regija', 'prebivalci', 'delovna_aktivnost', 'placa', 'podjetje_na_zaposlenega']].sort_values('podjetje_na_zaposlenega', ascending=False)\n",
    "podjetni"
   ]
  },
  {
   "cell_type": "code",
   "execution_count": 19,
   "metadata": {},
   "outputs": [
    {
     "data": {
      "text/plain": [
       "<AxesSubplot:title={'center':'Razporeditev občin po neto dobičku podjetij na prebivalca'}, ylabel='Frequency'>"
      ]
     },
     "execution_count": 19,
     "metadata": {},
     "output_type": "execute_result"
    },
    {
     "data": {
      "image/png": "[encoded data removed]",
      "text/plain": [
       "<Figure size 720x360 with 1 Axes>"
      ]
     },
     "metadata": {
      "needs_background": "light"
     },
     "output_type": "display_data"
    }
   ],
   "source": [
    "podjetni['podjetje_na_zaposlenega'].plot.hist(color='gray', figsize=(10,5), title='Razporeditev občin po neto dobičku podjetij na prebivalca')"
   ]
  },
  {
   "cell_type": "code",
   "execution_count": 20,
   "metadata": {},
   "outputs": [
    {
     "data": {
      "text/plain": [
       "False    167\n",
       "True      43\n",
       "Name: podjetje_na_zaposlenega, dtype: int64"
      ]
     },
     "execution_count": 20,
     "metadata": {},
     "output_type": "execute_result"
    }
   ],
   "source": [
    "(podjetni['podjetje_na_zaposlenega'] > 5*12*obcine.placa.mean()).value_counts()"
   ]
  },
  {
   "cell_type": "code",
   "execution_count": 21,
   "metadata": {},
   "outputs": [
    {
     "data": {
      "text/plain": [
       "True     191\n",
       "False     19\n",
       "Name: podjetje_na_zaposlenega, dtype: int64"
      ]
     },
     "execution_count": 21,
     "metadata": {},
     "output_type": "execute_result"
    }
   ],
   "source": [
    "(podjetni['podjetje_na_zaposlenega'] > 12*obcine.placa.mean()).value_counts()"
   ]
  },
  {
   "cell_type": "markdown",
   "metadata": {},
   "source": [
    "V državi je 43 takšnih občin, katerih celoletni dobiček podjetij presega petkratnik celoletnega dohodka povprečnega Slovenca. V 19 občinah se to ne zgodi niti z enkratnikom."
   ]
  },
  {
   "cell_type": "code",
   "execution_count": 22,
   "metadata": {},
   "outputs": [
    {
     "name": "stderr",
     "output_type": "stream",
     "text": [
      "<ipython-input-22-2bfef6491f76>:2: UserWarning: Boolean Series key will be reindexed to match DataFrame index.\n",
      "  obcine[nezadostni].groupby('regija').size()\n"
     ]
    },
    {
     "data": {
      "text/plain": [
       "regija\n",
       "jugovzhodna Slovenija    1\n",
       "koroška                  1\n",
       "podravska                8\n",
       "pomurska                 8\n",
       "savinjska                1\n",
       "dtype: int64"
      ]
     },
     "execution_count": 22,
     "metadata": {},
     "output_type": "execute_result"
    }
   ],
   "source": [
    "nezadostni = podjetni['podjetje_na_zaposlenega'] <= 12*(obcine.placa.mean())\n",
    "obcine[nezadostni].groupby('regija').size()"
   ]
  },
  {
   "cell_type": "markdown",
   "metadata": {},
   "source": [
    "Največ tovrstnih je v podravski in pomurski regiji, kjer gre predvsem za majhne občine, tako po številu prebivalcev, kot po velikosti ozemlja. Na določeni točki bi bilo ob takšnih rezultatih moč govoriti tudi o smiselnosti obstoju dotičnih občin kot samostojne samouprave."
   ]
  },
  {
   "cell_type": "code",
   "execution_count": 23,
   "metadata": {},
   "outputs": [
    {
     "data": {
      "text/plain": [
       "<AxesSubplot:title={'center':'Povprečni neto prihodek podjetij na osebo'}, xlabel='regija'>"
      ]
     },
     "execution_count": 23,
     "metadata": {},
     "output_type": "execute_result"
    },
    {
     "data": {
      "image/png": "[encoded data removed]",
      "text/plain": [
       "<Figure size 720x360 with 1 Axes>"
      ]
     },
     "metadata": {
      "needs_background": "light"
     },
     "output_type": "display_data"
    }
   ],
   "source": [
    "sum_podjetja = obcine.groupby('regija').sum()[['podjetja']].sort_values('regija')\n",
    "each_podjetja = (sum_podjetja.podjetja / regije.prebivalci).round(decimals=2)\n",
    "each_podjetja.plot.bar(ylim=(15000, 110000),figsize=(10,5), title='Povprečni neto prihodek podjetij na osebo')"
   ]
  },
  {
   "cell_type": "markdown",
   "metadata": {},
   "source": [
    "Pri prihodku podjetij na regijski ravni visoko dominira osrednjeslovenska regija, kateri kasneje sledi posavska, jugovzhodna Slovenija ter obalno-kraška."
   ]
  },
  {
   "cell_type": "code",
   "execution_count": 24,
   "metadata": {},
   "outputs": [
    {
     "data": {
      "image/png": "[encoded data removed]",
      "text/plain": [
       "<Figure size 720x504 with 1 Axes>"
      ]
     },
     "metadata": {
      "needs_background": "light"
     },
     "output_type": "display_data"
    }
   ],
   "source": [
    "graf1 = obcine[['podjetje_na_zaposlenega', 'placa']].plot.scatter('podjetje_na_zaposlenega', 'placa', figsize=(10,7), color='orange')\n"
   ]
  },
  {
   "cell_type": "code",
   "execution_count": 25,
   "metadata": {},
   "outputs": [
    {
     "data": {
      "text/plain": [
       "0.48663638942313014"
      ]
     },
     "execution_count": 25,
     "metadata": {},
     "output_type": "execute_result"
    }
   ],
   "source": [
    "obcine['placa'].corr(obcine['podjetje_na_zaposlenega'])"
   ]
  },
  {
   "cell_type": "markdown",
   "metadata": {},
   "source": [
    "Iz zgornjega je razvidno, da je v primeru višjih plač posameznikov tudi dobiček podjetij na posameznega delovno aktivnega prebivalca višji, kar vidimo v zgornjem kotu grafa."
   ]
  },
  {
   "cell_type": "markdown",
   "metadata": {},
   "source": [
    "#### **Lastnosti voznega parka**"
   ]
  },
  {
   "cell_type": "markdown",
   "metadata": {},
   "source": [
    "Starost vozila v lasti je lahko še en dober pokazatelj oziroma način vpogleda v finančno stanje družbe."
   ]
  },
  {
   "cell_type": "markdown",
   "metadata": {},
   "source": [
    "Poglejmo, kako se le-ta giblje po državi."
   ]
  },
  {
   "cell_type": "code",
   "execution_count": 26,
   "metadata": {},
   "outputs": [
    {
     "data": {
      "text/plain": [
       "<AxesSubplot:title={'center':'Povprečna starost osebnega avtomobila'}, ylabel='regija'>"
      ]
     },
     "execution_count": 26,
     "metadata": {},
     "output_type": "execute_result"
    },
    {
     "data": {
      "image/png": "[encoded data removed]",
      "text/plain": [
       "<Figure size 720x360 with 1 Axes>"
      ]
     },
     "metadata": {
      "needs_background": "light"
     },
     "output_type": "display_data"
    }
   ],
   "source": [
    "starosti = round(obcine.groupby('regija').mean()[['starost_avtomobila']], 1).sort_values('starost_avtomobila')\n",
    "starosti.plot.barh(xlim=(8, 12), figsize=(10,5), title='Povprečna starost osebnega avtomobila')"
   ]
  },
  {
   "cell_type": "markdown",
   "metadata": {},
   "source": [
    "V primerjavi z neto plačami posameznika je graf v grobem skladen - načeloma višja neto plača ustreza novejšemu jeklenemu konjičku, čeprav tudi tukaj naletimo na nekaj izjem.\n",
    "V oči precej bode goriška, ki se znajde na skoraj nasprotnih polih, pa tudi pomurska in podravska."
   ]
  },
  {
   "cell_type": "markdown",
   "metadata": {},
   "source": [
    "#### **Analiza vpliva naključnih faktorjev**"
   ]
  },
  {
   "cell_type": "markdown",
   "metadata": {},
   "source": [
    "Za konec si še na hitro poglejmo, kakšen je morebiten vpliv faktorjev, kot so delovna aktivnost, površina občine, starost avtomobila, prihodek na delovno aktivnega prebivalca od podjetij ter regija sama."
   ]
  },
  {
   "cell_type": "markdown",
   "metadata": {},
   "source": [
    "Za vpliv regije moramo najprej še podatke za regije, ki so v obliki \"string\" prevesti v berljivo obliko."
   ]
  },
  {
   "cell_type": "code",
   "execution_count": 95,
   "metadata": {},
   "outputs": [],
   "source": [
    "obcine.regija.drop_duplicates()\n",
    "regions=obcine.regija.drop_duplicates().reset_index()\n",
    "slovar=dict(zip(regions['regija'], regions['id']))\n",
    "obcine['regija_id']=obcine['regija'].replace(slovar)"
   ]
  },
  {
   "cell_type": "markdown",
   "metadata": {},
   "source": [
    "Uporabimo regresor."
   ]
  },
  {
   "cell_type": "code",
   "execution_count": 104,
   "metadata": {},
   "outputs": [
    {
     "data": {
      "text/plain": [
       "<AxesSubplot:ylabel='Vpliv na višino plače'>"
      ]
     },
     "execution_count": 104,
     "metadata": {},
     "output_type": "execute_result"
    },
    {
     "data": {
      "image/png": "[encoded data removed]",
      "text/plain": [
       "<Figure size 720x360 with 1 Axes>"
      ]
     },
     "metadata": {
      "needs_background": "light"
     },
     "output_type": "display_data"
    }
   ],
   "source": [
    "data_dep = obcine['placa']\n",
    "data_indep = obcine[['povrsina', 'delovna_aktivnost', 'podjetje_na_zaposlenega', 'regija_id']]\n",
    "\n",
    "regressor = RandomForestRegressor(n_estimators = 210, max_depth = 10, random_state=0)\n",
    "rf = regressor.fit(data_indep, data_dep)\n",
    "\n",
    "fig=plt.figure(figsize=(10, 5))\n",
    "feat_importances = pd.Series(rf.feature_importances_, index=['povrsina', 'delovna_aktivnost', 'podjetje_na_zaposlenega', 'regija_id'])\n",
    "feat_importances.sort_values(ascending=False).plot.barh(color = 'green', ylabel='Vpliv na višino plače')"
   ]
  },
  {
   "cell_type": "markdown",
   "metadata": {},
   "source": [
    "Vidimo, da ima še največ vpliva na višino plače povprečni zaslužek podjetja na osebo v določeni občini, kar pa spet ni presenetljiv izid. Kot kaže, regija, v kateri se občina širše nahaja ni tako pomembna predispozicija."
   ]
  },
  {
   "cell_type": "markdown",
   "metadata": {},
   "source": [
    "### **Izsledki**"
   ]
  },
  {
   "cell_type": "markdown",
   "metadata": {},
   "source": [
    "V tem sklopu bi želel samo na hitro preleteti svoje hipoteze.\n",
    "Iz dobljenih podatkov in kratke analize smo torej ugotovili:\n",
    " * da splošne korelacije med povprečno neto plačo in delovno aktivnostjo ni, so pa skrajno podpovprečno delovno aktivne občine tudi podpovprečno plačane po osebi,\n",
    " * da so najnižji neto mesečni dohodki res v pomurski regiji, kateri pa sledi podravska. Pri tem velja opomniti, da znotraj posamezne regije prihaja do nekaterih večjih razlik zaradi večje oziroma manjše centraliziranosti.\n",
    " * da je centraliziranost precej odvisna od regije do regije, vendar pa predvsem po večini velja, da mestne občine oziroma \"glavna mesta\" regij ne igrajo najpomembnejše vloge na področju dobičkonosnosti podjetij,\n",
    " * da intuitivna skladnost starosti avtomobilov ni ravno pokazatelj dejanskega premoženja njihovih lastnikov oziroma njihovega dohodka, pač pa se starost odraža kot poslediva še mnogih drugih različnih faktorjev."
   ]
  },
  {
   "cell_type": "markdown",
   "metadata": {},
   "source": [
    "### **Zaključek**"
   ]
  },
  {
   "cell_type": "markdown",
   "metadata": {},
   "source": [
    "V tej kratki analizi sem poskusil predvsem ugotoviti povezavo med nekaterimi vidiki ocene ekonomskega stanja v slovenskih občinah in statističnih regijah. Ob hipotetični ponovitvi tovrstne analize bi si vsekakor želel večjega nabora podatkov, saj bi pregled statističnih podatkov čez več let zagotovo dal še pristnejšo reprezentacijo, škodili pa ne bi tudi podrobnejši in bolj \"surovi\" podatki (v primerjavi z uporabljenimi, ki so že sami po sebi precej obdelani).\n"
   ]
  }
 ],
 "metadata": {
  "interpreter": {
   "hash": "961a2c9ff79c1913f3d375ae494ee06f02d07aaeaa87159be5cbae1792b24e0e"
  },
  "kernelspec": {
   "display_name": "Python 3",
   "language": "python",
   "name": "python3"
  },
  "language_info": {
   "codemirror_mode": {
    "name": "ipython",
    "version": 3
   },
   "file_extension": ".py",
   "mimetype": "text/x-python",
   "name": "python",
   "nbconvert_exporter": "python",
   "pygments_lexer": "ipython3",
   "version": "3.9.1"
  }
 },
 "nbformat": 4,
 "nbformat_minor": 2
}
